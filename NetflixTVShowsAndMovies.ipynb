{
 "cells": [
  {
   "cell_type": "code",
   "execution_count": 5,
   "metadata": {},
   "outputs": [],
   "source": [
    "import pandas as pd\n",
    "from matplotlib import pyplot as plt\n",
    "\n",
    "# 한글 폰트 사용을 위해서 세팅\n",
    "from matplotlib import font_manager, rc\n",
    "font_path = \"C:/Windows/Fonts/NGULIM.TTF\"\n",
    "font = font_manager.FontProperties(fname=font_path).get_name()\n",
    "rc('font', family=font)"
   ]
  },
  {
   "cell_type": "code",
   "execution_count": 6,
   "metadata": {},
   "outputs": [],
   "source": [
    "df = pd.read_csv(\"./datas/Netflix TV Shows and Movies.csv\")"
   ]
  },
  {
   "cell_type": "code",
   "execution_count": 7,
   "metadata": {},
   "outputs": [
    {
     "data": {
      "text/html": [
       "<div>\n",
       "<style scoped>\n",
       "    .dataframe tbody tr th:only-of-type {\n",
       "        vertical-align: middle;\n",
       "    }\n",
       "\n",
       "    .dataframe tbody tr th {\n",
       "        vertical-align: top;\n",
       "    }\n",
       "\n",
       "    .dataframe thead th {\n",
       "        text-align: right;\n",
       "    }\n",
       "</style>\n",
       "<table border=\"1\" class=\"dataframe\">\n",
       "  <thead>\n",
       "    <tr style=\"text-align: right;\">\n",
       "      <th></th>\n",
       "      <th>index</th>\n",
       "      <th>id</th>\n",
       "      <th>title</th>\n",
       "      <th>type</th>\n",
       "      <th>description</th>\n",
       "      <th>release_year</th>\n",
       "      <th>age_certification</th>\n",
       "      <th>runtime</th>\n",
       "      <th>imdb_id</th>\n",
       "      <th>imdb_score</th>\n",
       "      <th>imdb_votes</th>\n",
       "    </tr>\n",
       "  </thead>\n",
       "  <tbody>\n",
       "    <tr>\n",
       "      <th>0</th>\n",
       "      <td>0</td>\n",
       "      <td>tm84618</td>\n",
       "      <td>Taxi Driver</td>\n",
       "      <td>MOVIE</td>\n",
       "      <td>A mentally unstable Vietnam War veteran works ...</td>\n",
       "      <td>1976</td>\n",
       "      <td>R</td>\n",
       "      <td>113</td>\n",
       "      <td>tt0075314</td>\n",
       "      <td>8.3</td>\n",
       "      <td>795222.0</td>\n",
       "    </tr>\n",
       "    <tr>\n",
       "      <th>1</th>\n",
       "      <td>1</td>\n",
       "      <td>tm127384</td>\n",
       "      <td>Monty Python and the Holy Grail</td>\n",
       "      <td>MOVIE</td>\n",
       "      <td>King Arthur, accompanied by his squire, recrui...</td>\n",
       "      <td>1975</td>\n",
       "      <td>PG</td>\n",
       "      <td>91</td>\n",
       "      <td>tt0071853</td>\n",
       "      <td>8.2</td>\n",
       "      <td>530877.0</td>\n",
       "    </tr>\n",
       "  </tbody>\n",
       "</table>\n",
       "</div>"
      ],
      "text/plain": [
       "   index        id                            title   type  \\\n",
       "0      0   tm84618                      Taxi Driver  MOVIE   \n",
       "1      1  tm127384  Monty Python and the Holy Grail  MOVIE   \n",
       "\n",
       "                                         description  release_year  \\\n",
       "0  A mentally unstable Vietnam War veteran works ...          1976   \n",
       "1  King Arthur, accompanied by his squire, recrui...          1975   \n",
       "\n",
       "  age_certification  runtime    imdb_id  imdb_score  imdb_votes  \n",
       "0                 R      113  tt0075314         8.3    795222.0  \n",
       "1                PG       91  tt0071853         8.2    530877.0  "
      ]
     },
     "execution_count": 7,
     "metadata": {},
     "output_type": "execute_result"
    }
   ],
   "source": [
    "df.head(2)"
   ]
  },
  {
   "cell_type": "code",
   "execution_count": 8,
   "metadata": {},
   "outputs": [
    {
     "data": {
      "text/plain": [
       "(5283, 11)"
      ]
     },
     "execution_count": 8,
     "metadata": {},
     "output_type": "execute_result"
    }
   ],
   "source": [
    "df.shape"
   ]
  },
  {
   "cell_type": "code",
   "execution_count": 9,
   "metadata": {},
   "outputs": [
    {
     "data": {
      "text/plain": [
       "array(['MOVIE', 'SHOW'], dtype=object)"
      ]
     },
     "execution_count": 9,
     "metadata": {},
     "output_type": "execute_result"
    }
   ],
   "source": [
    "#TYPE에는 어떤 종류가 있을까?\n",
    "df['type'].unique()"
   ]
  },
  {
   "cell_type": "code",
   "execution_count": 10,
   "metadata": {},
   "outputs": [
    {
     "name": "stdout",
     "output_type": "stream",
     "text": [
      "<class 'pandas.core.frame.DataFrame'>\n",
      "RangeIndex: 5283 entries, 0 to 5282\n",
      "Data columns (total 11 columns):\n",
      " #   Column             Non-Null Count  Dtype  \n",
      "---  ------             --------------  -----  \n",
      " 0   index              5283 non-null   int64  \n",
      " 1   id                 5283 non-null   object \n",
      " 2   title              5283 non-null   object \n",
      " 3   type               5283 non-null   object \n",
      " 4   description        5278 non-null   object \n",
      " 5   release_year       5283 non-null   int64  \n",
      " 6   age_certification  2998 non-null   object \n",
      " 7   runtime            5283 non-null   int64  \n",
      " 8   imdb_id            5283 non-null   object \n",
      " 9   imdb_score         5283 non-null   float64\n",
      " 10  imdb_votes         5267 non-null   float64\n",
      "dtypes: float64(2), int64(3), object(6)\n",
      "memory usage: 454.1+ KB\n"
     ]
    }
   ],
   "source": [
    "df.info()"
   ]
  },
  {
   "cell_type": "code",
   "execution_count": 11,
   "metadata": {},
   "outputs": [
    {
     "data": {
      "text/html": [
       "<div>\n",
       "<style scoped>\n",
       "    .dataframe tbody tr th:only-of-type {\n",
       "        vertical-align: middle;\n",
       "    }\n",
       "\n",
       "    .dataframe tbody tr th {\n",
       "        vertical-align: top;\n",
       "    }\n",
       "\n",
       "    .dataframe thead th {\n",
       "        text-align: right;\n",
       "    }\n",
       "</style>\n",
       "<table border=\"1\" class=\"dataframe\">\n",
       "  <thead>\n",
       "    <tr style=\"text-align: right;\">\n",
       "      <th></th>\n",
       "      <th>index</th>\n",
       "      <th>release_year</th>\n",
       "      <th>runtime</th>\n",
       "      <th>imdb_score</th>\n",
       "      <th>imdb_votes</th>\n",
       "    </tr>\n",
       "  </thead>\n",
       "  <tbody>\n",
       "    <tr>\n",
       "      <th>count</th>\n",
       "      <td>5283.000000</td>\n",
       "      <td>5283.000000</td>\n",
       "      <td>5283.000000</td>\n",
       "      <td>5283.000000</td>\n",
       "      <td>5.267000e+03</td>\n",
       "    </tr>\n",
       "    <tr>\n",
       "      <th>mean</th>\n",
       "      <td>2641.000000</td>\n",
       "      <td>2015.879992</td>\n",
       "      <td>79.199886</td>\n",
       "      <td>6.533447</td>\n",
       "      <td>2.340719e+04</td>\n",
       "    </tr>\n",
       "    <tr>\n",
       "      <th>std</th>\n",
       "      <td>1525.215067</td>\n",
       "      <td>7.346098</td>\n",
       "      <td>38.915974</td>\n",
       "      <td>1.160932</td>\n",
       "      <td>8.713432e+04</td>\n",
       "    </tr>\n",
       "    <tr>\n",
       "      <th>min</th>\n",
       "      <td>0.000000</td>\n",
       "      <td>1953.000000</td>\n",
       "      <td>0.000000</td>\n",
       "      <td>1.500000</td>\n",
       "      <td>5.000000e+00</td>\n",
       "    </tr>\n",
       "    <tr>\n",
       "      <th>25%</th>\n",
       "      <td>1320.500000</td>\n",
       "      <td>2015.000000</td>\n",
       "      <td>45.000000</td>\n",
       "      <td>5.800000</td>\n",
       "      <td>5.210000e+02</td>\n",
       "    </tr>\n",
       "    <tr>\n",
       "      <th>50%</th>\n",
       "      <td>2641.000000</td>\n",
       "      <td>2018.000000</td>\n",
       "      <td>87.000000</td>\n",
       "      <td>6.600000</td>\n",
       "      <td>2.279000e+03</td>\n",
       "    </tr>\n",
       "    <tr>\n",
       "      <th>75%</th>\n",
       "      <td>3961.500000</td>\n",
       "      <td>2020.000000</td>\n",
       "      <td>106.000000</td>\n",
       "      <td>7.400000</td>\n",
       "      <td>1.014400e+04</td>\n",
       "    </tr>\n",
       "    <tr>\n",
       "      <th>max</th>\n",
       "      <td>5282.000000</td>\n",
       "      <td>2022.000000</td>\n",
       "      <td>235.000000</td>\n",
       "      <td>9.600000</td>\n",
       "      <td>2.268288e+06</td>\n",
       "    </tr>\n",
       "  </tbody>\n",
       "</table>\n",
       "</div>"
      ],
      "text/plain": [
       "             index  release_year      runtime   imdb_score    imdb_votes\n",
       "count  5283.000000   5283.000000  5283.000000  5283.000000  5.267000e+03\n",
       "mean   2641.000000   2015.879992    79.199886     6.533447  2.340719e+04\n",
       "std    1525.215067      7.346098    38.915974     1.160932  8.713432e+04\n",
       "min       0.000000   1953.000000     0.000000     1.500000  5.000000e+00\n",
       "25%    1320.500000   2015.000000    45.000000     5.800000  5.210000e+02\n",
       "50%    2641.000000   2018.000000    87.000000     6.600000  2.279000e+03\n",
       "75%    3961.500000   2020.000000   106.000000     7.400000  1.014400e+04\n",
       "max    5282.000000   2022.000000   235.000000     9.600000  2.268288e+06"
      ]
     },
     "execution_count": 11,
     "metadata": {},
     "output_type": "execute_result"
    }
   ],
   "source": [
    "df.describe()"
   ]
  },
  {
   "cell_type": "code",
   "execution_count": 12,
   "metadata": {},
   "outputs": [],
   "source": [
    "# 필요 없는 열 drop\n",
    "df = df.drop(['imdb_id'], axis=1)"
   ]
  },
  {
   "cell_type": "code",
   "execution_count": 13,
   "metadata": {},
   "outputs": [
    {
     "data": {
      "text/html": [
       "<div>\n",
       "<style scoped>\n",
       "    .dataframe tbody tr th:only-of-type {\n",
       "        vertical-align: middle;\n",
       "    }\n",
       "\n",
       "    .dataframe tbody tr th {\n",
       "        vertical-align: top;\n",
       "    }\n",
       "\n",
       "    .dataframe thead th {\n",
       "        text-align: right;\n",
       "    }\n",
       "</style>\n",
       "<table border=\"1\" class=\"dataframe\">\n",
       "  <thead>\n",
       "    <tr style=\"text-align: right;\">\n",
       "      <th></th>\n",
       "      <th>index</th>\n",
       "      <th>id</th>\n",
       "      <th>title</th>\n",
       "      <th>type</th>\n",
       "      <th>description</th>\n",
       "      <th>release_year</th>\n",
       "      <th>age_certification</th>\n",
       "      <th>runtime</th>\n",
       "      <th>imdb_score</th>\n",
       "      <th>imdb_votes</th>\n",
       "    </tr>\n",
       "  </thead>\n",
       "  <tbody>\n",
       "    <tr>\n",
       "      <th>0</th>\n",
       "      <td>0</td>\n",
       "      <td>tm84618</td>\n",
       "      <td>Taxi Driver</td>\n",
       "      <td>MOVIE</td>\n",
       "      <td>A mentally unstable Vietnam War veteran works ...</td>\n",
       "      <td>1976</td>\n",
       "      <td>R</td>\n",
       "      <td>113</td>\n",
       "      <td>8.3</td>\n",
       "      <td>795222.0</td>\n",
       "    </tr>\n",
       "    <tr>\n",
       "      <th>1</th>\n",
       "      <td>1</td>\n",
       "      <td>tm127384</td>\n",
       "      <td>Monty Python and the Holy Grail</td>\n",
       "      <td>MOVIE</td>\n",
       "      <td>King Arthur, accompanied by his squire, recrui...</td>\n",
       "      <td>1975</td>\n",
       "      <td>PG</td>\n",
       "      <td>91</td>\n",
       "      <td>8.2</td>\n",
       "      <td>530877.0</td>\n",
       "    </tr>\n",
       "    <tr>\n",
       "      <th>2</th>\n",
       "      <td>2</td>\n",
       "      <td>tm70993</td>\n",
       "      <td>Life of Brian</td>\n",
       "      <td>MOVIE</td>\n",
       "      <td>Brian Cohen is an average young Jewish man, bu...</td>\n",
       "      <td>1979</td>\n",
       "      <td>R</td>\n",
       "      <td>94</td>\n",
       "      <td>8.0</td>\n",
       "      <td>392419.0</td>\n",
       "    </tr>\n",
       "    <tr>\n",
       "      <th>3</th>\n",
       "      <td>3</td>\n",
       "      <td>tm190788</td>\n",
       "      <td>The Exorcist</td>\n",
       "      <td>MOVIE</td>\n",
       "      <td>12-year-old Regan MacNeil begins to adapt an e...</td>\n",
       "      <td>1973</td>\n",
       "      <td>R</td>\n",
       "      <td>133</td>\n",
       "      <td>8.1</td>\n",
       "      <td>391942.0</td>\n",
       "    </tr>\n",
       "  </tbody>\n",
       "</table>\n",
       "</div>"
      ],
      "text/plain": [
       "   index        id                            title   type  \\\n",
       "0      0   tm84618                      Taxi Driver  MOVIE   \n",
       "1      1  tm127384  Monty Python and the Holy Grail  MOVIE   \n",
       "2      2   tm70993                    Life of Brian  MOVIE   \n",
       "3      3  tm190788                     The Exorcist  MOVIE   \n",
       "\n",
       "                                         description  release_year  \\\n",
       "0  A mentally unstable Vietnam War veteran works ...          1976   \n",
       "1  King Arthur, accompanied by his squire, recrui...          1975   \n",
       "2  Brian Cohen is an average young Jewish man, bu...          1979   \n",
       "3  12-year-old Regan MacNeil begins to adapt an e...          1973   \n",
       "\n",
       "  age_certification  runtime  imdb_score  imdb_votes  \n",
       "0                 R      113         8.3    795222.0  \n",
       "1                PG       91         8.2    530877.0  \n",
       "2                 R       94         8.0    392419.0  \n",
       "3                 R      133         8.1    391942.0  "
      ]
     },
     "execution_count": 13,
     "metadata": {},
     "output_type": "execute_result"
    }
   ],
   "source": [
    "df.head(4)"
   ]
  },
  {
   "cell_type": "code",
   "execution_count": 14,
   "metadata": {},
   "outputs": [
    {
     "data": {
      "text/plain": [
       "index                   0\n",
       "id                      0\n",
       "title                   0\n",
       "type                    0\n",
       "description             5\n",
       "release_year            0\n",
       "age_certification    2285\n",
       "runtime                 0\n",
       "imdb_score              0\n",
       "imdb_votes             16\n",
       "dtype: int64"
      ]
     },
     "execution_count": 14,
     "metadata": {},
     "output_type": "execute_result"
    }
   ],
   "source": [
    "df.isnull().sum()"
   ]
  },
  {
   "cell_type": "code",
   "execution_count": 15,
   "metadata": {},
   "outputs": [
    {
     "data": {
      "text/plain": [
       "array(['R', 'PG', 'TV-14', 'G', 'PG-13', nan, 'TV-MA', 'TV-PG', 'TV-Y',\n",
       "       'TV-G', 'TV-Y7', 'NC-17'], dtype=object)"
      ]
     },
     "execution_count": 15,
     "metadata": {},
     "output_type": "execute_result"
    }
   ],
   "source": [
    "# 나이제한 고유값 확인\n",
    "age_unique = df['age_certification'].unique()\n",
    "age_unique"
   ]
  },
  {
   "cell_type": "code",
   "execution_count": 16,
   "metadata": {},
   "outputs": [],
   "source": [
    "type_count = df['type'].value_counts()"
   ]
  },
  {
   "cell_type": "code",
   "execution_count": 17,
   "metadata": {},
   "outputs": [
    {
     "data": {
      "image/png": "[encoded data removed]",
      "text/plain": [
       "<Figure size 800x500 with 1 Axes>"
      ]
     },
     "metadata": {},
     "output_type": "display_data"
    }
   ],
   "source": [
    "# 영화와 무비의 비율\n",
    "\n",
    "plt.figure(figsize=(8, 5))\n",
    "plt.pie(type_count, labels=type_count.index, autopct='%1.1f%%', \n",
    "        explode=[0.01, 0.01], colors=['#4FC3F7', '#01579B'])\n",
    "plt.title(\"영화 티비쇼 비율\")\n",
    "plt.show()"
   ]
  },
  {
   "cell_type": "code",
   "execution_count": 19,
   "metadata": {},
   "outputs": [
    {
     "data": {
      "text/html": [
       "<div>\n",
       "<style scoped>\n",
       "    .dataframe tbody tr th:only-of-type {\n",
       "        vertical-align: middle;\n",
       "    }\n",
       "\n",
       "    .dataframe tbody tr th {\n",
       "        vertical-align: top;\n",
       "    }\n",
       "\n",
       "    .dataframe thead th {\n",
       "        text-align: right;\n",
       "    }\n",
       "</style>\n",
       "<table border=\"1\" class=\"dataframe\">\n",
       "  <thead>\n",
       "    <tr style=\"text-align: right;\">\n",
       "      <th></th>\n",
       "      <th>index</th>\n",
       "      <th>id</th>\n",
       "      <th>title</th>\n",
       "      <th>type</th>\n",
       "      <th>description</th>\n",
       "      <th>release_year</th>\n",
       "      <th>age_certification</th>\n",
       "      <th>runtime</th>\n",
       "      <th>imdb_score</th>\n",
       "      <th>imdb_votes</th>\n",
       "    </tr>\n",
       "  </thead>\n",
       "  <tbody>\n",
       "    <tr>\n",
       "      <th>0</th>\n",
       "      <td>0</td>\n",
       "      <td>tm84618</td>\n",
       "      <td>Taxi Driver</td>\n",
       "      <td>MOVIE</td>\n",
       "      <td>A mentally unstable Vietnam War veteran works ...</td>\n",
       "      <td>1976</td>\n",
       "      <td>R</td>\n",
       "      <td>113</td>\n",
       "      <td>8.3</td>\n",
       "      <td>795222.0</td>\n",
       "    </tr>\n",
       "    <tr>\n",
       "      <th>1</th>\n",
       "      <td>1</td>\n",
       "      <td>tm127384</td>\n",
       "      <td>Monty Python and the Holy Grail</td>\n",
       "      <td>MOVIE</td>\n",
       "      <td>King Arthur, accompanied by his squire, recrui...</td>\n",
       "      <td>1975</td>\n",
       "      <td>PG</td>\n",
       "      <td>91</td>\n",
       "      <td>8.2</td>\n",
       "      <td>530877.0</td>\n",
       "    </tr>\n",
       "    <tr>\n",
       "      <th>2</th>\n",
       "      <td>2</td>\n",
       "      <td>tm70993</td>\n",
       "      <td>Life of Brian</td>\n",
       "      <td>MOVIE</td>\n",
       "      <td>Brian Cohen is an average young Jewish man, bu...</td>\n",
       "      <td>1979</td>\n",
       "      <td>R</td>\n",
       "      <td>94</td>\n",
       "      <td>8.0</td>\n",
       "      <td>392419.0</td>\n",
       "    </tr>\n",
       "    <tr>\n",
       "      <th>3</th>\n",
       "      <td>3</td>\n",
       "      <td>tm190788</td>\n",
       "      <td>The Exorcist</td>\n",
       "      <td>MOVIE</td>\n",
       "      <td>12-year-old Regan MacNeil begins to adapt an e...</td>\n",
       "      <td>1973</td>\n",
       "      <td>R</td>\n",
       "      <td>133</td>\n",
       "      <td>8.1</td>\n",
       "      <td>391942.0</td>\n",
       "    </tr>\n",
       "    <tr>\n",
       "      <th>4</th>\n",
       "      <td>4</td>\n",
       "      <td>ts22164</td>\n",
       "      <td>Monty Python's Flying Circus</td>\n",
       "      <td>SHOW</td>\n",
       "      <td>A British sketch comedy series with the shows ...</td>\n",
       "      <td>1969</td>\n",
       "      <td>TV-14</td>\n",
       "      <td>30</td>\n",
       "      <td>8.8</td>\n",
       "      <td>72895.0</td>\n",
       "    </tr>\n",
       "  </tbody>\n",
       "</table>\n",
       "</div>"
      ],
      "text/plain": [
       "   index        id                            title   type  \\\n",
       "0      0   tm84618                      Taxi Driver  MOVIE   \n",
       "1      1  tm127384  Monty Python and the Holy Grail  MOVIE   \n",
       "2      2   tm70993                    Life of Brian  MOVIE   \n",
       "3      3  tm190788                     The Exorcist  MOVIE   \n",
       "4      4   ts22164     Monty Python's Flying Circus   SHOW   \n",
       "\n",
       "                                         description  release_year  \\\n",
       "0  A mentally unstable Vietnam War veteran works ...          1976   \n",
       "1  King Arthur, accompanied by his squire, recrui...          1975   \n",
       "2  Brian Cohen is an average young Jewish man, bu...          1979   \n",
       "3  12-year-old Regan MacNeil begins to adapt an e...          1973   \n",
       "4  A British sketch comedy series with the shows ...          1969   \n",
       "\n",
       "  age_certification  runtime  imdb_score  imdb_votes  \n",
       "0                 R      113         8.3    795222.0  \n",
       "1                PG       91         8.2    530877.0  \n",
       "2                 R       94         8.0    392419.0  \n",
       "3                 R      133         8.1    391942.0  \n",
       "4             TV-14       30         8.8     72895.0  "
      ]
     },
     "execution_count": 19,
     "metadata": {},
     "output_type": "execute_result"
    }
   ],
   "source": [
    "df.head()"
   ]
  },
  {
   "cell_type": "code",
   "execution_count": null,
   "metadata": {},
   "outputs": [
    {
     "data": {
      "text/plain": [
       "release_year\n",
       "1953      1\n",
       "1954      2\n",
       "1956      1\n",
       "1958      1\n",
       "1959      1\n",
       "       ... \n",
       "2018    733\n",
       "2019    749\n",
       "2020    657\n",
       "2021    687\n",
       "2022    182\n",
       "Length: 66, dtype: int64"
      ]
     },
     "execution_count": 22,
     "metadata": {},
     "output_type": "execute_result"
    }
   ],
   "source": [
    "release_year_contents = df.groupby('release_year').size()\n",
    "plt.figure(figsize=(10, 7))\n",
    "# 연도별 개봉한 무비 티비쇼 차트"
   ]
  },
  {
   "cell_type": "code",
   "execution_count": null,
   "metadata": {},
   "outputs": [],
   "source": []
  }
 ],
 "metadata": {
  "kernelspec": {
   "display_name": "Python 3",
   "language": "python",
   "name": "python3"
  },
  "language_info": {
   "codemirror_mode": {
    "name": "ipython",
    "version": 3
   },
   "file_extension": ".py",
   "mimetype": "text/x-python",
   "name": "python",
   "nbconvert_exporter": "python",
   "pygments_lexer": "ipython3",
   "version": "3.12.4"
  }
 },
 "nbformat": 4,
 "nbformat_minor": 2
}
