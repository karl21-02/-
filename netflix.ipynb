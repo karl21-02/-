{
 "cells": [
  {
   "cell_type": "code",
   "execution_count": 2,
   "metadata": {},
   "outputs": [],
   "source": [
    "import pandas as pd"
   ]
  },
  {
   "cell_type": "code",
   "execution_count": 3,
   "metadata": {},
   "outputs": [],
   "source": [
    "df = pd.read_csv(\"./datas/netflix_titles.csv\")"
   ]
  },
  {
   "cell_type": "code",
   "execution_count": 6,
   "metadata": {},
   "outputs": [
    {
     "data": {
      "text/html": [
       "<div>\n",
       "<style scoped>\n",
       "    .dataframe tbody tr th:only-of-type {\n",
       "        vertical-align: middle;\n",
       "    }\n",
       "\n",
       "    .dataframe tbody tr th {\n",
       "        vertical-align: top;\n",
       "    }\n",
       "\n",
       "    .dataframe thead th {\n",
       "        text-align: right;\n",
       "    }\n",
       "</style>\n",
       "<table border=\"1\" class=\"dataframe\">\n",
       "  <thead>\n",
       "    <tr style=\"text-align: right;\">\n",
       "      <th></th>\n",
       "      <th>ID</th>\n",
       "      <th>Movie</th>\n",
       "      <th>Year</th>\n",
       "      <th>Genre</th>\n",
       "      <th>RunTime</th>\n",
       "      <th>Description</th>\n",
       "      <th>IMDB_Score</th>\n",
       "    </tr>\n",
       "  </thead>\n",
       "  <tbody>\n",
       "    <tr>\n",
       "      <th>0</th>\n",
       "      <td>0</td>\n",
       "      <td>Eternals</td>\n",
       "      <td>-2021</td>\n",
       "      <td>Action,Adventure,Drama</td>\n",
       "      <td>0</td>\n",
       "      <td>The saga of the Eternals, a race of immortal b...</td>\n",
       "      <td>0.0</td>\n",
       "    </tr>\n",
       "    <tr>\n",
       "      <th>1</th>\n",
       "      <td>1</td>\n",
       "      <td>Loki</td>\n",
       "      <td>(2021??)</td>\n",
       "      <td>Action,Adventure,Fantasy</td>\n",
       "      <td>0</td>\n",
       "      <td>A new Marvel chapter with Loki at its center.</td>\n",
       "      <td>0.0</td>\n",
       "    </tr>\n",
       "    <tr>\n",
       "      <th>2</th>\n",
       "      <td>2</td>\n",
       "      <td>The Falcon and the Winter Soldier</td>\n",
       "      <td>-2021</td>\n",
       "      <td>Action,Adventure,Drama</td>\n",
       "      <td>50 min</td>\n",
       "      <td>Following the events of 'Avengers: Endgame,' S...</td>\n",
       "      <td>7.5</td>\n",
       "    </tr>\n",
       "    <tr>\n",
       "      <th>3</th>\n",
       "      <td>3</td>\n",
       "      <td>WandaVision</td>\n",
       "      <td>-2021</td>\n",
       "      <td>Action,Comedy,Drama</td>\n",
       "      <td>350 min</td>\n",
       "      <td>Blends the style of classic sitcoms with the M...</td>\n",
       "      <td>8.1</td>\n",
       "    </tr>\n",
       "    <tr>\n",
       "      <th>4</th>\n",
       "      <td>4</td>\n",
       "      <td>Spider-Man: No Way Home</td>\n",
       "      <td>-2021</td>\n",
       "      <td>Action,Adventure,Sci-Fi</td>\n",
       "      <td>0</td>\n",
       "      <td>A continuation of Spider-Man: Far From Home.</td>\n",
       "      <td>0.0</td>\n",
       "    </tr>\n",
       "  </tbody>\n",
       "</table>\n",
       "</div>"
      ],
      "text/plain": [
       "   ID                              Movie      Year                     Genre  \\\n",
       "0   0                           Eternals     -2021    Action,Adventure,Drama   \n",
       "1   1                               Loki  (2021??)  Action,Adventure,Fantasy   \n",
       "2   2  The Falcon and the Winter Soldier     -2021    Action,Adventure,Drama   \n",
       "3   3                        WandaVision     -2021       Action,Comedy,Drama   \n",
       "4   4            Spider-Man: No Way Home     -2021   Action,Adventure,Sci-Fi   \n",
       "\n",
       "   RunTime                                        Description  IMDB_Score  \n",
       "0        0  The saga of the Eternals, a race of immortal b...         0.0  \n",
       "1        0      A new Marvel chapter with Loki at its center.         0.0  \n",
       "2   50 min  Following the events of 'Avengers: Endgame,' S...         7.5  \n",
       "3  350 min  Blends the style of classic sitcoms with the M...         8.1  \n",
       "4        0       A continuation of Spider-Man: Far From Home.         0.0  "
      ]
     },
     "execution_count": 6,
     "metadata": {},
     "output_type": "execute_result"
    }
   ],
   "source": [
    "df.head()"
   ]
  },
  {
   "cell_type": "code",
   "execution_count": 7,
   "metadata": {},
   "outputs": [
    {
     "data": {
      "text/html": [
       "<div>\n",
       "<style scoped>\n",
       "    .dataframe tbody tr th:only-of-type {\n",
       "        vertical-align: middle;\n",
       "    }\n",
       "\n",
       "    .dataframe tbody tr th {\n",
       "        vertical-align: top;\n",
       "    }\n",
       "\n",
       "    .dataframe thead th {\n",
       "        text-align: right;\n",
       "    }\n",
       "</style>\n",
       "<table border=\"1\" class=\"dataframe\">\n",
       "  <thead>\n",
       "    <tr style=\"text-align: right;\">\n",
       "      <th></th>\n",
       "      <th>ID</th>\n",
       "      <th>IMDB_Score</th>\n",
       "    </tr>\n",
       "  </thead>\n",
       "  <tbody>\n",
       "    <tr>\n",
       "      <th>count</th>\n",
       "      <td>1690.000000</td>\n",
       "      <td>1690.000000</td>\n",
       "    </tr>\n",
       "    <tr>\n",
       "      <th>mean</th>\n",
       "      <td>844.500000</td>\n",
       "      <td>6.877337</td>\n",
       "    </tr>\n",
       "    <tr>\n",
       "      <th>std</th>\n",
       "      <td>488.005294</td>\n",
       "      <td>2.690564</td>\n",
       "    </tr>\n",
       "    <tr>\n",
       "      <th>min</th>\n",
       "      <td>0.000000</td>\n",
       "      <td>0.000000</td>\n",
       "    </tr>\n",
       "    <tr>\n",
       "      <th>25%</th>\n",
       "      <td>422.250000</td>\n",
       "      <td>6.900000</td>\n",
       "    </tr>\n",
       "    <tr>\n",
       "      <th>50%</th>\n",
       "      <td>844.500000</td>\n",
       "      <td>7.800000</td>\n",
       "    </tr>\n",
       "    <tr>\n",
       "      <th>75%</th>\n",
       "      <td>1266.750000</td>\n",
       "      <td>8.400000</td>\n",
       "    </tr>\n",
       "    <tr>\n",
       "      <th>max</th>\n",
       "      <td>1689.000000</td>\n",
       "      <td>9.600000</td>\n",
       "    </tr>\n",
       "  </tbody>\n",
       "</table>\n",
       "</div>"
      ],
      "text/plain": [
       "                ID   IMDB_Score\n",
       "count  1690.000000  1690.000000\n",
       "mean    844.500000     6.877337\n",
       "std     488.005294     2.690564\n",
       "min       0.000000     0.000000\n",
       "25%     422.250000     6.900000\n",
       "50%     844.500000     7.800000\n",
       "75%    1266.750000     8.400000\n",
       "max    1689.000000     9.600000"
      ]
     },
     "execution_count": 7,
     "metadata": {},
     "output_type": "execute_result"
    }
   ],
   "source": [
    "df.describe()"
   ]
  },
  {
   "cell_type": "code",
   "execution_count": 9,
   "metadata": {},
   "outputs": [
    {
     "data": {
      "text/plain": [
       "(1690, 7)"
      ]
     },
     "execution_count": 9,
     "metadata": {},
     "output_type": "execute_result"
    }
   ],
   "source": [
    "df.shape"
   ]
  },
  {
   "cell_type": "code",
   "execution_count": null,
   "metadata": {},
   "outputs": [],
   "source": []
  }
 ],
 "metadata": {
  "kernelspec": {
   "display_name": "Python 3",
   "language": "python",
   "name": "python3"
  },
  "language_info": {
   "codemirror_mode": {
    "name": "ipython",
    "version": 3
   },
   "file_extension": ".py",
   "mimetype": "text/x-python",
   "name": "python",
   "nbconvert_exporter": "python",
   "pygments_lexer": "ipython3",
   "version": "3.12.4"
  }
 },
 "nbformat": 4,
 "nbformat_minor": 2
}
